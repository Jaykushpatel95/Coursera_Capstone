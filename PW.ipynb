{
    "cells": [
        {
            "cell_type": "code",
            "execution_count": 2,
            "metadata": {},
            "outputs": [],
            "source": "#data set for sleep"
        },
        {
            "cell_type": "code",
            "execution_count": 3,
            "metadata": {},
            "outputs": [
                {
                    "data": {
                        "text/html": "<div>\n<style scoped>\n    .dataframe tbody tr th:only-of-type {\n        vertical-align: middle;\n    }\n\n    .dataframe tbody tr th {\n        vertical-align: top;\n    }\n\n    .dataframe thead th {\n        text-align: right;\n    }\n</style>\n<table border=\"1\" class=\"dataframe\">\n  <thead>\n    <tr style=\"text-align: right;\">\n      <th></th>\n      <th></th>\n      <th>Sleep Time</th>\n    </tr>\n  </thead>\n  <tbody>\n    <tr>\n      <th>NaN</th>\n      <th>Hrs</th>\n      <td>Hrs</td>\n    </tr>\n    <tr>\n      <th>Aug 12</th>\n      <th>8.4</th>\n      <td>8:24 hrs</td>\n    </tr>\n    <tr>\n      <th>Aug 19</th>\n      <th>8.7</th>\n      <td>8:42 hrs</td>\n    </tr>\n    <tr>\n      <th>Aug 26</th>\n      <th>7.4</th>\n      <td>7:24 hrs</td>\n    </tr>\n    <tr>\n      <th>Sep 30</th>\n      <th>8.7</th>\n      <td>8:40 hrs</td>\n    </tr>\n  </tbody>\n</table>\n</div>",
                        "text/plain": "           Sleep Time\nNaN    Hrs        Hrs\nAug 12 8.4   8:24 hrs\nAug 19 8.7   8:42 hrs\nAug 26 7.4   7:24 hrs\nSep 30 8.7   8:40 hrs"
                    },
                    "execution_count": 3,
                    "metadata": {},
                    "output_type": "execute_result"
                }
            ],
            "source": "# The code was removed by Watson Studio for sharing."
        },
        {
            "cell_type": "code",
            "execution_count": null,
            "metadata": {},
            "outputs": [],
            "source": ""
        }
    ],
    "metadata": {
        "kernelspec": {
            "display_name": "Python 3.6",
            "language": "python",
            "name": "python3"
        },
        "language_info": {
            "codemirror_mode": {
                "name": "ipython",
                "version": 3
            },
            "file_extension": ".py",
            "mimetype": "text/x-python",
            "name": "python",
            "nbconvert_exporter": "python",
            "pygments_lexer": "ipython3",
            "version": "3.6.9"
        }
    },
    "nbformat": 4,
    "nbformat_minor": 1
}